{
 "cells": [
  {
   "cell_type": "code",
   "execution_count": 129,
   "metadata": {
    "collapsed": true
   },
   "outputs": [],
   "source": [
    "import pandas as pd\n",
    "import numpy as np\n",
    "import re\n",
    "import tweepy\n",
    "import pymongo\n",
    "import matplotlib.pylab as plt\n",
    "\n",
    "from sklearn.feature_extraction.text import CountVectorizer\n",
    "from sklearn.decomposition import LatentDirichletAllocation"
   ]
  },
  {
   "cell_type": "markdown",
   "metadata": {},
   "source": [
    "## 1) Main goal\n",
    "\n",
    "### Main algorithmic reference: Python Machine Learning 2nd Edition by Sebastian Raschka"
   ]
  },
  {
   "cell_type": "markdown",
   "metadata": {},
   "source": [
    "#### Perform topic modelling on collected tweets on a particular topic to observe people's opinion on that subject using Latent Dirichlet Allocation algorithm\n",
    "\n",
    "#### For this particular topic, the keyword 'jerusalem' was chosen for the analysis. The reason for the topic is described in tweepy_test.py, but I'll highlight some issues using twitter API."
   ]
  },
  {
   "cell_type": "markdown",
   "metadata": {},
   "source": [
    "## 2) Challenges with using twitter API\n",
    "\n",
    "#### Reference: https://developer.twitter.com/en/docs/tweets/search/overview"
   ]
  },
  {
   "cell_type": "markdown",
   "metadata": {},
   "source": [
    "The actual data collection using twitter was performed using twitter Open API's standard account, which is the free version of twitter's API service. The free version comes with several limitations. For one thing, the API only collects data from recent 7 days. The problem with this was that it limited the scope of subjects we can analyze. If a particular topic isn't a popular topic at the moment, there were only around maybe 3000~4000 tweets available using the Open API (I experienced this issue using keywords such as 'tesla', 'samsung galaxy s8', 'machine learning')\n",
    "\n",
    "I originally wanted to perform analysis on people's opinion on a firm or a product. The problem is if a product has been out for a while, amongst the sprase number of tweets that were collected, majority of them were advertisements, which are pretty much noise in our data analysis. Clearly, if the same analysis was performed within a short period of time when a product was released, we could perform a more meaningful topic analysis.\n",
    "\n",
    "Hence, I was limited to choosing a topic that was fairly recent and gained attention of a large population. As of the timeline when this project was conducted (late December, 2017), Trump has officially declared that U.S will recognize Jerusalem as official capital of Israel, and I wanted to see how topics regarding Jerusalem were spread out. When I performed the analysis, I was easily able to amass 80,000 tweets, although some were filtered out in the end because they were too short to have any meaningful context."
   ]
  },
  {
   "cell_type": "markdown",
   "metadata": {},
   "source": [
    "## 3) Twitter data colleciton \n",
    "\n",
    "This portion was deployed in Spyder and is presented in tweepy_test.py. But the code will be included here again for reference."
   ]
  },
  {
   "cell_type": "code",
   "execution_count": null,
   "metadata": {
    "collapsed": true
   },
   "outputs": [],
   "source": [
    "def text_preprocessing(text):\n",
    "    '''Simple text preprocessing method for cleansing the data'''\n",
    "    '''Some Regex references:\n",
    "    https://stackoverflow.com/questions/24399820/expression-to-remove-url-links-from-twitter-tweet'''\n",
    "    #Let us analyze everything in lower case\n",
    "    text = text.lower()\n",
    "    #Get rid of http\n",
    "    result = re.sub(r\"http\\S+\", \"\", text)\n",
    "    #ignore any person tagging\n",
    "    result = re.sub(r\"@([A-Za-z]+[A-Za-z0-9_]+)\", \"\", result)\n",
    "    result = re.sub(r\"\\?\", \"\", result)\n",
    "    #No need for hashtags\n",
    "    result = re.sub(r\"#\", \"\", result)\n",
    "    #Remove quotation marks and unnecessary punctuations\n",
    "    result = re.sub(r'\"', \"\", result)\n",
    "    result = re.sub(r\"'\", \"\", result)\n",
    "    result = re.sub(r\",\", \"\", result)\n",
    "    result = re.sub(r\"-\", \"\", result)\n",
    "    result = re.sub(r\":\", \"\", result)\n",
    "    result = re.sub(r\";\", \"\", result)\n",
    "    #Remove any brackets\n",
    "    result = re.sub(r\"\\(\", \"\", result)\n",
    "    result = re.sub(r\"\\)\", \"\", result)\n",
    "    result = re.sub(r\"&\", \"\", result)\n",
    "    #This call is to reduce all white space to single space and get rid of\n",
    "    #trailing whitespace using .strip() method\n",
    "    result = re.sub('\\s+', ' ', result).strip()\n",
    "    #Some twits had these weird units\n",
    "    result = re.sub(r\"£\", \"\", result)\n",
    "    result = re.sub(r\"\\.\", \"\", result)\n",
    "    result = re.sub(r\"|\", \"\", result)\n",
    "    result = re.sub(r\"\\!\", \"\", result)\n",
    "    #Remove any price tag\n",
    "    return result\n",
    "\n",
    "'''First set up a connection to MongoDB'''\n",
    "username = 'username'\n",
    "password = 'password'\n",
    "connection = pymongo.MongoClient('mongodb://%s:%s@52.78.226.78' % (username, password))\n",
    "\n",
    "'''Make a new db called twitter'''\n",
    "db = connection.twitter\n",
    "\n",
    "'''Make a new collection called hmm... twitter_collection'''\n",
    "twitter_collection = db.twitter_collection\n",
    "twitter_collection_unfiltered = db.twitter_collection_unfiltered\n",
    "\n",
    "'''Now connect to Twitter Open API using keys and secrets'''\n",
    "consumer_key = 'consumer_key'\n",
    "consumer_secret = 'consumer_secret'\n",
    "\n",
    "access_token = 'access_token'\n",
    "access_token_secret = 'acess_token_secret'\n",
    "\n",
    "auth = tweepy.OAuthHandler(consumer_key, consumer_secret)\n",
    "auth.set_access_token(access_token, access_token_secret)\n",
    "\n",
    "'''Reference for rate limit: \n",
    "    https://stackoverflow.com/questions/21308762/avoid-twitter-api-limitation-with-tweepy'''\n",
    "api = tweepy.API(auth, wait_on_rate_limit = True, wait_on_rate_limit_notify = True)\n",
    "\n",
    "'''This keyword is used to search tweet. -filter:retweets is there to make \n",
    "sure retweets are filtered out'''\n",
    "key = 'jerusalem -filter:retweets'\n",
    "\n",
    "count = 1\n",
    "'''Reference on tweet_mode input: \n",
    "https://twittercommunity.com/t/retrieve-full-tweet-when-truncated-non-retweet/75542/4\n",
    "https://developer.twitter.com/en/docs/tweets/tweet-updates'''\n",
    "\n",
    "'''Reading the tweet data and saving them in MongoDB'''\n",
    "for tweet in tweepy.Cursor(api.search, q=key, include_entities=True, lang=\"en\", tweet_mode=\"extended\").items(80000):\n",
    "    #Keep the original\n",
    "    tweet_dict_unfiltered = {'original_tweet' : tweet.full_text}\n",
    "    twitter_collection_unfiltered.insert_one(tweet_dict_unfiltered)\n",
    "    \n",
    "    #Insert the filtered tweets\n",
    "    tweet_mod = text_preprocessing(tweet.full_text)\n",
    "    tweet_dict = {'filtered_tweet' : tweet_mod}\n",
    "    twitter_collection.insert_one(tweet_dict)\n",
    "    \n",
    "    if count % 1 == 0:\n",
    "        print(str(count) + ':' + tweet_mod)\n",
    "        print('-' * 30)\n",
    "    count += 1\n",
    "    \n",
    "'''Problem with using Twitter is that... due to the fact the free account only allows\n",
    "data from past 7 days, it is diifficult to gather large data in a particular topic. \n",
    "Also, the problem with streaming a product data is that there are\n",
    "way too many ads on twitter to extract anything meaningful\n",
    "\n",
    "My guess is that there would probably more meaningful reviews from people when a product\n",
    "is just released. But when I tried Samsung Galaxy S8, which has been out for a while,\n",
    "most of the tweets (around 4000) consisted largely of advertisements.\n",
    "\n",
    "Also, non-popular topics like Tesla or Machine Learning did not have much tweets either.\n",
    "\n",
    "So I finally decided to pick a subject that is hotly debated topic - jerusalem.'''\n",
    "\n",
    "'''Let us call the saved data in DataFrame and save it as a csv file'''\n",
    "tweet_list = []\n",
    "for tweet in twitter_collection.find():\n",
    "    '''Let us filter out tweets that are too short'''\n",
    "    if len(tweet['filtered_tweet']) < 40:\n",
    "        continue\n",
    "    tweet_list.append(tweet['filtered_tweet'])\n",
    "    \n",
    "tweet_df = pd.DataFrame(tweet_list, columns = ['filtered_tweet'])\n",
    "tweet_df.to_csv('filtered_tweet.csv', index = False, encoding = 'utf-8')"
   ]
  },
  {
   "cell_type": "code",
   "execution_count": 130,
   "metadata": {
    "collapsed": true
   },
   "outputs": [],
   "source": [
    "tweet_df = pd.read_csv('filtered_tweet.csv')"
   ]
  },
  {
   "cell_type": "code",
   "execution_count": 131,
   "metadata": {},
   "outputs": [
    {
     "data": {
      "text/html": [
       "<div>\n",
       "<style>\n",
       "    .dataframe thead tr:only-child th {\n",
       "        text-align: right;\n",
       "    }\n",
       "\n",
       "    .dataframe thead th {\n",
       "        text-align: left;\n",
       "    }\n",
       "\n",
       "    .dataframe tbody tr th {\n",
       "        vertical-align: top;\n",
       "    }\n",
       "</style>\n",
       "<table border=\"1\" class=\"dataframe\">\n",
       "  <thead>\n",
       "    <tr style=\"text-align: right;\">\n",
       "      <th></th>\n",
       "      <th>filtered_tweet</th>\n",
       "    </tr>\n",
       "  </thead>\n",
       "  <tbody>\n",
       "    <tr>\n",
       "      <th>0</th>\n",
       "      <td>And if every country in the middle east is inv...</td>\n",
       "    </tr>\n",
       "    <tr>\n",
       "      <th>1</th>\n",
       "      <td>Jews are new to Zionism Nice try As the UN den...</td>\n",
       "    </tr>\n",
       "    <tr>\n",
       "      <th>2</th>\n",
       "      <td>TYTlive so was urnor Moore that got Trumps sup...</td>\n",
       "    </tr>\n",
       "    <tr>\n",
       "      <th>3</th>\n",
       "      <td>Joe roots captaincy this series has been solid...</td>\n",
       "    </tr>\n",
       "    <tr>\n",
       "      <th>4</th>\n",
       "      <td>Nehemiah 1243 And on that day they made great ...</td>\n",
       "    </tr>\n",
       "    <tr>\n",
       "      <th>5</th>\n",
       "      <td>63 Israeli students signed a letter stating th...</td>\n",
       "    </tr>\n",
       "    <tr>\n",
       "      <th>6</th>\n",
       "      <td>Neh 122829 amp d sons of the musicmakers came ...</td>\n",
       "    </tr>\n",
       "    <tr>\n",
       "      <th>7</th>\n",
       "      <td>US says cuts to UN budget unrelated to Jerusal...</td>\n",
       "    </tr>\n",
       "    <tr>\n",
       "      <th>8</th>\n",
       "      <td>Countries Supporting Trump Decision To Recogni...</td>\n",
       "    </tr>\n",
       "    <tr>\n",
       "      <th>9</th>\n",
       "      <td>Top story From Trump to Jerusalem The year tha...</td>\n",
       "    </tr>\n",
       "  </tbody>\n",
       "</table>\n",
       "</div>"
      ],
      "text/plain": [
       "                                      filtered_tweet\n",
       "0  And if every country in the middle east is inv...\n",
       "1  Jews are new to Zionism Nice try As the UN den...\n",
       "2  TYTlive so was urnor Moore that got Trumps sup...\n",
       "3  Joe roots captaincy this series has been solid...\n",
       "4  Nehemiah 1243 And on that day they made great ...\n",
       "5  63 Israeli students signed a letter stating th...\n",
       "6  Neh 122829 amp d sons of the musicmakers came ...\n",
       "7  US says cuts to UN budget unrelated to Jerusal...\n",
       "8  Countries Supporting Trump Decision To Recogni...\n",
       "9  Top story From Trump to Jerusalem The year tha..."
      ]
     },
     "execution_count": 131,
     "metadata": {},
     "output_type": "execute_result"
    }
   ],
   "source": [
    "tweet_df.head(10)"
   ]
  },
  {
   "cell_type": "code",
   "execution_count": 132,
   "metadata": {},
   "outputs": [
    {
     "data": {
      "text/html": [
       "<div>\n",
       "<style>\n",
       "    .dataframe thead tr:only-child th {\n",
       "        text-align: right;\n",
       "    }\n",
       "\n",
       "    .dataframe thead th {\n",
       "        text-align: left;\n",
       "    }\n",
       "\n",
       "    .dataframe tbody tr th {\n",
       "        vertical-align: top;\n",
       "    }\n",
       "</style>\n",
       "<table border=\"1\" class=\"dataframe\">\n",
       "  <thead>\n",
       "    <tr style=\"text-align: right;\">\n",
       "      <th></th>\n",
       "      <th>filtered_tweet</th>\n",
       "    </tr>\n",
       "  </thead>\n",
       "  <tbody>\n",
       "    <tr>\n",
       "      <th>76419</th>\n",
       "      <td>Irish Times Letters UN defies Trump to condemn...</td>\n",
       "    </tr>\n",
       "    <tr>\n",
       "      <th>76420</th>\n",
       "      <td>EU Germany to finance 40m euro wastewater trea...</td>\n",
       "    </tr>\n",
       "    <tr>\n",
       "      <th>76421</th>\n",
       "      <td>How your cowardly UNGA’s Jerusalem vote worked...</td>\n",
       "    </tr>\n",
       "    <tr>\n",
       "      <th>76422</th>\n",
       "      <td>The campaign was created by Dr Mike Evans a pr...</td>\n",
       "    </tr>\n",
       "    <tr>\n",
       "      <th>76423</th>\n",
       "      <td>Priceless NY Post Cover Burns UN Snowflakes Ag...</td>\n",
       "    </tr>\n",
       "    <tr>\n",
       "      <th>76424</th>\n",
       "      <td>CNN’s Jake Tapper trashes nations condemning T...</td>\n",
       "    </tr>\n",
       "    <tr>\n",
       "      <th>76425</th>\n",
       "      <td>GOD BLESS PRESIDENT TRUMP Boeing WellsFargo Bb...</td>\n",
       "    </tr>\n",
       "    <tr>\n",
       "      <th>76426</th>\n",
       "      <td>Israel quits UNESCO over ‘attacks’ months afte...</td>\n",
       "    </tr>\n",
       "    <tr>\n",
       "      <th>76427</th>\n",
       "      <td>Use Social Media against israel Every boy girl...</td>\n",
       "    </tr>\n",
       "    <tr>\n",
       "      <th>76428</th>\n",
       "      <td>Your former boss promised the exact same thing...</td>\n",
       "    </tr>\n",
       "  </tbody>\n",
       "</table>\n",
       "</div>"
      ],
      "text/plain": [
       "                                          filtered_tweet\n",
       "76419  Irish Times Letters UN defies Trump to condemn...\n",
       "76420  EU Germany to finance 40m euro wastewater trea...\n",
       "76421  How your cowardly UNGA’s Jerusalem vote worked...\n",
       "76422  The campaign was created by Dr Mike Evans a pr...\n",
       "76423  Priceless NY Post Cover Burns UN Snowflakes Ag...\n",
       "76424  CNN’s Jake Tapper trashes nations condemning T...\n",
       "76425  GOD BLESS PRESIDENT TRUMP Boeing WellsFargo Bb...\n",
       "76426  Israel quits UNESCO over ‘attacks’ months afte...\n",
       "76427  Use Social Media against israel Every boy girl...\n",
       "76428  Your former boss promised the exact same thing..."
      ]
     },
     "execution_count": 132,
     "metadata": {},
     "output_type": "execute_result"
    }
   ],
   "source": [
    "tweet_df.tail(10)"
   ]
  },
  {
   "cell_type": "markdown",
   "metadata": {},
   "source": [
    "## 4) LDA \n",
    "\n",
    "#### We have some hyperparameters that we need to tune such as number of topics and max_df in CountVectorizer, so we will try several cases until a result that makes the most sense is observed. To make these observations, we will analyze the top words for each topic"
   ]
  },
  {
   "cell_type": "markdown",
   "metadata": {},
   "source": [
    "### 4 topics"
   ]
  },
  {
   "cell_type": "code",
   "execution_count": 133,
   "metadata": {
    "collapsed": true
   },
   "outputs": [],
   "source": [
    "def show_top_words(num_words, count, lda):\n",
    "    n_top_words = num_words\n",
    "    feature_names = count.get_feature_names()\n",
    "    for topic_idx, topic in enumerate(lda.components_):\n",
    "        print(\"Topic {}:\".format(topic_idx + 1))\n",
    "        '''argsort returns the indices that would sort an array in ascending fasion. \n",
    "        In other words, it would sort the index of words such that \n",
    "        the most important words for each category can be found at the tail of the list.\n",
    "        Consequently, to extract top 10 important elements, we need to extract last 10 elements\n",
    "        from the sorted list'''\n",
    "        print(\" \".join([feature_names[i] for i in topic.argsort()[:-n_top_words - 1 : -1]]))\n",
    "        print('-' * 30)\n",
    "        print()"
   ]
  },
  {
   "cell_type": "code",
   "execution_count": null,
   "metadata": {
    "collapsed": true
   },
   "outputs": [],
   "source": [
    "count = CountVectorizer(stop_words = 'english')\n",
    "X = count.fit_transform(tweet_df['filtered_tweet'].values)"
   ]
  },
  {
   "cell_type": "code",
   "execution_count": null,
   "metadata": {
    "collapsed": true
   },
   "outputs": [],
   "source": [
    "lda4 = LatentDirichletAllocation(n_topics = 4, random_state = 0, learning_method = 'batch', n_jobs = -1)\n",
    "X_topics4 = lda4.fit_transform(X)"
   ]
  },
  {
   "cell_type": "code",
   "execution_count": 134,
   "metadata": {},
   "outputs": [
    {
     "name": "stdout",
     "output_type": "stream",
     "text": [
      "Topic 1:\n",
      "jerusalem embassy guatemala israel trump moving says trumps countries president decision announces christmas embassies lead\n",
      "------------------------------\n",
      "\n",
      "Topic 2:\n",
      "jerusalem christmas peace pope israel world trump amp just calls good like merry day know\n",
      "------------------------------\n",
      "\n",
      "Topic 3:\n",
      "jerusalem israel capital palestine jews amp christians east city jewish palestinians people god years holy\n",
      "------------------------------\n",
      "\n",
      "Topic 4:\n",
      "jerusalem trump israel station vote capital train israeli president decision donald wall western new minister\n",
      "------------------------------\n",
      "\n"
     ]
    }
   ],
   "source": [
    "show_top_words(15, count, lda4)"
   ]
  },
  {
   "cell_type": "markdown",
   "metadata": {},
   "source": [
    "### 5 topics"
   ]
  },
  {
   "cell_type": "code",
   "execution_count": null,
   "metadata": {
    "collapsed": true
   },
   "outputs": [],
   "source": [
    "lda5 = LatentDirichletAllocation(n_topics = 5, random_state = 0, learning_method = 'batch', n_jobs = -1)\n",
    "X_topics5 = lda5.fit_transform(X)"
   ]
  },
  {
   "cell_type": "code",
   "execution_count": 135,
   "metadata": {},
   "outputs": [
    {
     "name": "stdout",
     "output_type": "stream",
     "text": [
      "Topic 1:\n",
      "jerusalem embassy guatemala israel trump moving says countries president trumps decision embassies lead announces following\n",
      "------------------------------\n",
      "\n",
      "Topic 2:\n",
      "jerusalem christmas peace pope israel trump calls merry nations francis amp world united message day\n",
      "------------------------------\n",
      "\n",
      "Topic 3:\n",
      "jerusalem israel capital palestine amp christians jews city east jewish holy god palestinians people years\n",
      "------------------------------\n",
      "\n",
      "Topic 4:\n",
      "jerusalem trump israel station capital train president israeli donald vote wall western new decision minister\n",
      "------------------------------\n",
      "\n",
      "Topic 5:\n",
      "jerusalem vote palestinian haley trump just nikki like israeli funding violence israel christmas dont million\n",
      "------------------------------\n",
      "\n"
     ]
    }
   ],
   "source": [
    "show_top_words(15, count, lda5)"
   ]
  },
  {
   "cell_type": "markdown",
   "metadata": {},
   "source": [
    "### 6 topics"
   ]
  },
  {
   "cell_type": "code",
   "execution_count": null,
   "metadata": {
    "collapsed": true
   },
   "outputs": [],
   "source": [
    "lda6 = LatentDirichletAllocation(n_topics = 6, random_state = 0, learning_method = 'batch', n_jobs = -1)\n",
    "X_topics6 = lda6.fit_transform(X)"
   ]
  },
  {
   "cell_type": "code",
   "execution_count": 136,
   "metadata": {},
   "outputs": [
    {
     "name": "stdout",
     "output_type": "stream",
     "text": [
      "Topic 1:\n",
      "jerusalem israel embassy guatemala moving says countries embassies trump 10 decision capital president talks trumps\n",
      "------------------------------\n",
      "\n",
      "Topic 2:\n",
      "jerusalem christmas peace pope amp calls merry god trump world message people francis israel good\n",
      "------------------------------\n",
      "\n",
      "Topic 3:\n",
      "jerusalem israel capital palestine jews east amp city christians holy jewish netanyahu people times king\n",
      "------------------------------\n",
      "\n",
      "Topic 4:\n",
      "jerusalem capital trump israel vote cut decision countries israeli israels voted make budget united nations\n",
      "------------------------------\n",
      "\n",
      "Topic 5:\n",
      "jerusalem palestinian israeli nikki haley christmas violence bethlehem vote million like 285 funding palestinians jews\n",
      "------------------------------\n",
      "\n",
      "Topic 6:\n",
      "jerusalem trump embassy israel guatemala station train president donald wall new trumps western following decision\n",
      "------------------------------\n",
      "\n"
     ]
    }
   ],
   "source": [
    "show_top_words(15, count, lda6)"
   ]
  },
  {
   "cell_type": "markdown",
   "metadata": {},
   "source": [
    "#### We begin to see a bit of repetition of keywords in different topics which is indicative of unoptimized modeling"
   ]
  },
  {
   "cell_type": "markdown",
   "metadata": {},
   "source": [
    "### 7 topics "
   ]
  },
  {
   "cell_type": "code",
   "execution_count": null,
   "metadata": {
    "collapsed": true
   },
   "outputs": [],
   "source": [
    "lda7 = LatentDirichletAllocation(n_topics = 7, random_state = 0, learning_method = 'batch', n_jobs = -1)\n",
    "X_topics7 = lda7.fit_transform(X)"
   ]
  },
  {
   "cell_type": "code",
   "execution_count": 137,
   "metadata": {},
   "outputs": [
    {
     "name": "stdout",
     "output_type": "stream",
     "text": [
      "Topic 1:\n",
      "jerusalem embassy israel guatemala moving says president decision palestine iran news trumps christmas palestinians hamas\n",
      "------------------------------\n",
      "\n",
      "Topic 2:\n",
      "jerusalem christmas peace pope calls merry francis message united nations trump day solution palestine hate\n",
      "------------------------------\n",
      "\n",
      "Topic 3:\n",
      "jerusalem israel capital palestine jews amp east jewish people city christians holy jesus land years\n",
      "------------------------------\n",
      "\n",
      "Topic 4:\n",
      "jerusalem vote cut make budget capital 285m israel israeli trump obama video palestinians care know\n",
      "------------------------------\n",
      "\n",
      "Topic 5:\n",
      "jerusalem haley vote nikki palestinian israeli christmas violence bethlehem million india funding 285 trumps like\n",
      "------------------------------\n",
      "\n",
      "Topic 6:\n",
      "jerusalem trump embassy guatemala israel station train president wall new trumps western following lead donald\n",
      "------------------------------\n",
      "\n",
      "Topic 7:\n",
      "jerusalem capital trump israel countries decision embassies israels recognition 10 recognize trumps god world president\n",
      "------------------------------\n",
      "\n"
     ]
    }
   ],
   "source": [
    "show_top_words(15, count, lda7)"
   ]
  },
  {
   "cell_type": "markdown",
   "metadata": {},
   "source": [
    "#### We begin to see a bit of repetition of keywords such as embassy across multiple topics here"
   ]
  },
  {
   "cell_type": "markdown",
   "metadata": {},
   "source": [
    "### 8 topics"
   ]
  },
  {
   "cell_type": "code",
   "execution_count": null,
   "metadata": {
    "collapsed": true
   },
   "outputs": [],
   "source": [
    "lda8 = LatentDirichletAllocation(n_topics = 8, random_state = 0, learning_method = 'batch', n_jobs = -1)\n",
    "X_topics8 = lda8.fit_transform(X)"
   ]
  },
  {
   "cell_type": "code",
   "execution_count": 138,
   "metadata": {},
   "outputs": [
    {
     "name": "stdout",
     "output_type": "stream",
     "text": [
      "Topic 1:\n",
      "jerusalem embassy israel guatemala moving says president decision capital country trump palestinians trumps iran just\n",
      "------------------------------\n",
      "\n",
      "Topic 2:\n",
      "jerusalem christmas pope peace trump nations message francis merry united amp world good solution people\n",
      "------------------------------\n",
      "\n",
      "Topic 3:\n",
      "jerusalem israel east jews christians amp palestine capital netanyahu king middle times city jesus david\n",
      "------------------------------\n",
      "\n",
      "Topic 4:\n",
      "jerusalem israel peace god land people holy capital years jewish know obama city calls pope\n",
      "------------------------------\n",
      "\n",
      "Topic 5:\n",
      "jerusalem haley palestinian nikki israeli vote million funding like 285 jews muslims palestine announces reduction\n",
      "------------------------------\n",
      "\n",
      "Topic 6:\n",
      "jerusalem trump embassy guatemala israel station train wall new president western following lead trumps donald\n",
      "------------------------------\n",
      "\n",
      "Topic 7:\n",
      "jerusalem israel trump capital countries embassies 10 israels recognize decision talks world says moving amp\n",
      "------------------------------\n",
      "\n",
      "Topic 8:\n",
      "jerusalem capital vote trump palestine israel decision christmas cut president trumps bethlehem voted recognition budget\n",
      "------------------------------\n",
      "\n"
     ]
    }
   ],
   "source": [
    "show_top_words(15, count, lda8)"
   ]
  },
  {
   "cell_type": "markdown",
   "metadata": {},
   "source": [
    "#### Now, we start seeing the embassy issue present many different topics and some of the topics seem to lack consistency. For instance, topic 4 seems to have a random array of topics."
   ]
  },
  {
   "cell_type": "markdown",
   "metadata": {},
   "source": [
    "### It appears that 4 topics (5 seems pretty acceptable as well) division is optimal as it doesn't have duplicating themes and each topic has clear theme. However, as we have seen in the above analysis, there are a lotta repetitive terms occurring multiple occasions; let us adjust the max_df in CountVectorizer and observe how that handles things."
   ]
  },
  {
   "cell_type": "markdown",
   "metadata": {},
   "source": [
    "### 4-2) Tuning max_df parameter"
   ]
  },
  {
   "cell_type": "code",
   "execution_count": null,
   "metadata": {
    "collapsed": true
   },
   "outputs": [],
   "source": [
    "count2 = CountVectorizer(stop_words = 'english', max_df = 0.5)\n",
    "X2 = count2.fit_transform(tweet_df['filtered_tweet'].values)"
   ]
  },
  {
   "cell_type": "code",
   "execution_count": null,
   "metadata": {
    "collapsed": true
   },
   "outputs": [],
   "source": [
    "lda5_2 = LatentDirichletAllocation(n_topics = 5, random_state = 0, learning_method = 'batch', n_jobs = -1)\n",
    "X_topics5_2 = lda5_2.fit_transform(X2)"
   ]
  },
  {
   "cell_type": "code",
   "execution_count": 139,
   "metadata": {},
   "outputs": [
    {
     "name": "stdout",
     "output_type": "stream",
     "text": [
      "Topic 1:\n",
      "trumotrain israel popculture christmas haley nikkei decision funding peacd millineal capital francis 285 votd trumprussia\n",
      "------------------------------\n",
      "\n",
      "Topic 2:\n",
      "israel capital trumotrain votd amp worl decision peope jusswaggtv christmas nationother makdisi god countries lik\n",
      "------------------------------\n",
      "\n",
      "Topic 3:\n",
      "embassy guatemala israel trumotrain statingwe movin presidencyhouseampsenateis trails saynototerrorism countries walkway nevertrumppastors decision westelbian embassies\n",
      "------------------------------\n",
      "\n",
      "Topic 4:\n",
      "israel christmas bethlehem christians jesuits jewry yearrrr palestinans trumprussia violators capital israeli palestinia netanyahou kinds\n",
      "------------------------------\n",
      "\n",
      "Topic 5:\n",
      "palestinans capital israeli israel peacd palestinia east palestinianruled city calls iran stataliste vida popculture et\n",
      "------------------------------\n",
      "\n"
     ]
    }
   ],
   "source": [
    "show_top_words(15, count, lda5_2)"
   ]
  },
  {
   "cell_type": "markdown",
   "metadata": {},
   "source": [
    "#### For some reason, this creates a more gibberish kind of a result. But this is probably due to the fact that Tweets are in general short. Just to make sure, let us try a slightly different max_df value to see how that performs."
   ]
  },
  {
   "cell_type": "code",
   "execution_count": null,
   "metadata": {
    "collapsed": true
   },
   "outputs": [],
   "source": [
    "count3 = CountVectorizer(stop_words = 'english', max_df = 0.7)\n",
    "X3 = count3.fit_transform(tweet_df['filtered_tweet'].values)"
   ]
  },
  {
   "cell_type": "code",
   "execution_count": null,
   "metadata": {
    "collapsed": true
   },
   "outputs": [],
   "source": [
    "lda5_3 = LatentDirichletAllocation(n_topics = 5, random_state = 0, learning_method = 'batch', n_jobs = -1)\n",
    "X_topics5_3 = lda5_3.fit_transform(X3)"
   ]
  },
  {
   "cell_type": "code",
   "execution_count": 140,
   "metadata": {},
   "outputs": [
    {
     "name": "stdout",
     "output_type": "stream",
     "text": [
      "Topic 1:\n",
      "trumotrain israel popculture christmas haley nikkei decision funding peacd millineal capital francis 285 votd trumprussia\n",
      "------------------------------\n",
      "\n",
      "Topic 2:\n",
      "israel capital trumotrain votd amp worl decision peope jusswaggtv christmas nationother makdisi god countries lik\n",
      "------------------------------\n",
      "\n",
      "Topic 3:\n",
      "embassy guatemala israel trumotrain statingwe movin presidencyhouseampsenateis trails saynototerrorism countries walkway nevertrumppastors decision westelbian embassies\n",
      "------------------------------\n",
      "\n",
      "Topic 4:\n",
      "israel christmas bethlehem christians jesuits jewry yearrrr palestinans trumprussia violators capital israeli palestinia netanyahou kinds\n",
      "------------------------------\n",
      "\n",
      "Topic 5:\n",
      "palestinans capital israeli israel peacd palestinia east palestinianruled city calls iran stataliste vida popculture et\n",
      "------------------------------\n",
      "\n"
     ]
    }
   ],
   "source": [
    "show_top_words(15, count, lda5_3)"
   ]
  },
  {
   "cell_type": "markdown",
   "metadata": {},
   "source": [
    "#### Similar story here, due to the character limits in tweets, it apears that including all the words give a better result. Now we'll do more in depth analysis.\n",
    "\n",
    "#### In the movie review topic modeling case in Python Machine learning, adjusting the max_df values helped the result because each review was much longer, and filtering out words that do not contribute much to topic differentiation actually helped. Obviously not for twitter topic modeling."
   ]
  },
  {
   "cell_type": "markdown",
   "metadata": {},
   "source": [
    "### 4-3) Tuning ngram hyperparameter\n",
    "\n",
    "ngram hyperparameter allows one to group multiple words as single word. For instance, in some cases, the keyword 'SK hynix' may have more meaning than individual 'SK' and 'hynix'."
   ]
  },
  {
   "cell_type": "code",
   "execution_count": null,
   "metadata": {
    "collapsed": true
   },
   "outputs": [],
   "source": [
    "count_n2 = CountVectorizer(ngram_range = (1,2), stop_words = 'english')\n",
    "X_n2 = count_n2.fit_transform(tweet_df['filtered_tweet'].values)"
   ]
  },
  {
   "cell_type": "markdown",
   "metadata": {},
   "source": [
    "### 5 topics"
   ]
  },
  {
   "cell_type": "code",
   "execution_count": null,
   "metadata": {
    "collapsed": true
   },
   "outputs": [],
   "source": [
    "lda_n2_5 = LatentDirichletAllocation(n_topics = 5, random_state = 0, learning_method = 'batch', n_jobs = -1)\n",
    "X_topics_n2_5 = lda_n2_5.fit_transform(X_n2)"
   ]
  },
  {
   "cell_type": "code",
   "execution_count": 141,
   "metadata": {},
   "outputs": [
    {
     "name": "stdout",
     "output_type": "stream",
     "text": [
      "Topic 1:\n",
      "jerusalem embassy israel guatemala moving embassy jerusalem israel jerusalem embassy israel moving embassy says trump guatemala says palestine says moving president\n",
      "------------------------------\n",
      "\n",
      "Topic 2:\n",
      "jerusalem embassy embassy jerusalem guatemala israel trump trumps guatemala embassy decision christmas following lead israel embassy bethlehem follows\n",
      "------------------------------\n",
      "\n",
      "Topic 3:\n",
      "jerusalem trump station vote israel train train station new president haley countries jerusalem vote jerusalem train nikki cut\n",
      "------------------------------\n",
      "\n",
      "Topic 4:\n",
      "jerusalem god israel embassy amp trumps bless city god bless christians say netanyahu president jerusalem embassy christmas\n",
      "------------------------------\n",
      "\n",
      "Topic 5:\n",
      "jerusalem capital israel jerusalem capital trump capital israel palestine decision christmas israeli jerusalem israel palestinian capital palestine israels countries\n",
      "------------------------------\n",
      "\n"
     ]
    }
   ],
   "source": [
    "show_top_words(15, count_n2, lda_n2_5)"
   ]
  },
  {
   "cell_type": "markdown",
   "metadata": {},
   "source": [
    "### 6 topics"
   ]
  },
  {
   "cell_type": "code",
   "execution_count": null,
   "metadata": {
    "collapsed": true
   },
   "outputs": [],
   "source": [
    "lda_n2_6 = LatentDirichletAllocation(n_topics = 6, random_state = 0, learning_method = 'batch', n_jobs = -1)\n",
    "X_topics_n2_6 = lda_n2_6.fit_transform(X_n2)"
   ]
  },
  {
   "cell_type": "code",
   "execution_count": 142,
   "metadata": {},
   "outputs": [
    {
     "name": "stdout",
     "output_type": "stream",
     "text": [
      "Topic 1:\n",
      "jerusalem embassy guatemala israel embassy jerusalem moving israel jerusalem embassy israel moving embassy says guatemala says president trump says moving palestine\n",
      "------------------------------\n",
      "\n",
      "Topic 2:\n",
      "jerusalem embassy israel guatemala embassy jerusalem trump trumps decision guatemala embassy christmas lead following follows bethlehem israel embassy\n",
      "------------------------------\n",
      "\n",
      "Topic 3:\n",
      "jerusalem trump vote station israel train train station countries new haley president jerusalem train jerusalem vote nikki cut\n",
      "------------------------------\n",
      "\n",
      "Topic 4:\n",
      "jerusalem god embassy israel bless amp trumps god bless jerusalem embassy netanyahu city president say christians ban\n",
      "------------------------------\n",
      "\n",
      "Topic 5:\n",
      "jerusalem israel capital trump jerusalem capital capital israel israeli decision wall station western jerusalem israel western wall palestine donald\n",
      "------------------------------\n",
      "\n",
      "Topic 6:\n",
      "jerusalem christmas israel pope peace capital palestine palestinian peace jerusalem trump jerusalem capital calls francis palestinians pope francis\n",
      "------------------------------\n",
      "\n"
     ]
    }
   ],
   "source": [
    "show_top_words(15, count_n2, lda_n2_6)"
   ]
  },
  {
   "cell_type": "markdown",
   "metadata": {},
   "source": [
    "#### With increased ngram, we are running into a similar issue with max_df variation. We begin to have keywords occurring across multiple topics. \n",
    "\n",
    "#### For final analysis, we will take the case with 1st order ngram and max_df set at default value with 4 divisions. The results should be fairly similar."
   ]
  },
  {
   "cell_type": "markdown",
   "metadata": {},
   "source": [
    "## 5) In depth analysis of optimal topic model"
   ]
  },
  {
   "cell_type": "markdown",
   "metadata": {},
   "source": [
    "### 4 topics, 1st order ngram, max_df = 1.0"
   ]
  },
  {
   "cell_type": "code",
   "execution_count": 143,
   "metadata": {},
   "outputs": [
    {
     "name": "stdout",
     "output_type": "stream",
     "text": [
      "Topic 1:\n",
      "jerusalem embassy guatemala israel trump moving says trumps countries president decision announces christmas embassies lead\n",
      "------------------------------\n",
      "\n",
      "Topic 2:\n",
      "jerusalem christmas peace pope israel world trump amp just calls good like merry day know\n",
      "------------------------------\n",
      "\n",
      "Topic 3:\n",
      "jerusalem israel capital palestine jews amp christians east city jewish palestinians people god years holy\n",
      "------------------------------\n",
      "\n",
      "Topic 4:\n",
      "jerusalem trump israel station vote capital train israeli president decision donald wall western new minister\n",
      "------------------------------\n",
      "\n"
     ]
    }
   ],
   "source": [
    "show_top_words(15, count, lda4)"
   ]
  },
  {
   "cell_type": "markdown",
   "metadata": {},
   "source": [
    "### Distribution of topics (topic_num = 4)"
   ]
  },
  {
   "cell_type": "code",
   "execution_count": 144,
   "metadata": {},
   "outputs": [
    {
     "data": {
      "image/png": "[encoded data removed]",
      "text/plain": [
       "<matplotlib.figure.Figure at 0x18841364208>"
      ]
     },
     "metadata": {},
     "output_type": "display_data"
    }
   ],
   "source": [
    "X_topics4_np = np.array(X_topics4)\n",
    "topic_distribution = np.argmax(X_topics4_np, axis = 1)\n",
    "topic_count = np.bincount(topic_distribution)\n",
    "\n",
    "plt.figure(figsize = (12, 7))\n",
    "plt.bar(range(len(topic_count)), topic_count)\n",
    "plt.xticks(range(len(topic_count)), ('topic1', 'topic2', 'topic3', 'topic4'))\n",
    "plt.ylabel('Number of tweets')\n",
    "plt.xlabel('topic')\n",
    "plt.title('Topic distribution of keyword jerusalem in Twitter API')\n",
    "plt.show()"
   ]
  },
  {
   "cell_type": "markdown",
   "metadata": {},
   "source": [
    "Tweets about Christmas and a train station being named after Donald Trump is slightly less popular topic as opposed to the news of Guatemala and other countries re-locating their embassies in Jerusalem and the historical tweets about Jerusalem. The Christmas tweet is probably just a coincidence in time frame because the timeline for tweet collection occurs between December 22nd and December 29th."
   ]
  },
  {
   "cell_type": "markdown",
   "metadata": {},
   "source": [
    "### Let us print out some tweets from each topic and see if topic modeling indeed divided the tweets properly"
   ]
  },
  {
   "cell_type": "code",
   "execution_count": null,
   "metadata": {
    "collapsed": true
   },
   "outputs": [],
   "source": [
    "topic_4_1 = X_topics4[:, 0].argsort()[::-1] #this reverses the order\n",
    "for iter_idx, movie_idx in enumerate(topic_4_1[:200]):\n",
    "    print(tweet_df['filtered_tweet'][movie_idx])\n",
    "    print('-' * 50)\n",
    "    print()"
   ]
  },
  {
   "cell_type": "markdown",
   "metadata": {},
   "source": [
    "#### The main topic here appears to be mention of Guatemala moving its embassy to Jerusalem following President Trump's decision to recognize Jerusalem as the capital city of Israel, and other countries also moving their embassy. Inevitably some noise is present in the data."
   ]
  },
  {
   "cell_type": "code",
   "execution_count": null,
   "metadata": {
    "collapsed": true
   },
   "outputs": [],
   "source": [
    "topic_4_2 = X_topics4[:, 1].argsort()[::-1] #this reverses the order\n",
    "for iter_idx, movie_idx in enumerate(topic_4_2[:200]):\n",
    "    print(tweet_df['filtered_tweet'][movie_idx])\n",
    "    print('-' * 50)\n",
    "    print()"
   ]
  },
  {
   "cell_type": "markdown",
   "metadata": {},
   "source": [
    "#### Mainly Christmas and Pope were central keywrods"
   ]
  },
  {
   "cell_type": "code",
   "execution_count": null,
   "metadata": {
    "collapsed": true
   },
   "outputs": [],
   "source": [
    "topic_4_3 = X_topics4[:, 2].argsort()[::-1] #this reverses the order\n",
    "for iter_idx, movie_idx in enumerate(topic_4_3[:200]):\n",
    "    print(tweet_df['filtered_tweet'][movie_idx])\n",
    "    print('-' * 50)\n",
    "    print()"
   ]
  },
  {
   "cell_type": "markdown",
   "metadata": {},
   "source": [
    "#### This was the most unexpected topic. It appears to be containing tweets mentioning the history of Jerusalem and the relation of Israelians and Palestanians. I assume these tweets come from people arguing the historical context of Jerusalem"
   ]
  },
  {
   "cell_type": "code",
   "execution_count": null,
   "metadata": {
    "collapsed": true
   },
   "outputs": [],
   "source": [
    "topic_4_4 = X_topics4[:, 3].argsort()[::-1] #this reverses the order\n",
    "for iter_idx, movie_idx in enumerate(topic_4_4[:200]):\n",
    "    print(tweet_df['filtered_tweet'][movie_idx])\n",
    "    print('-' * 50)\n",
    "    print()"
   ]
  },
  {
   "cell_type": "markdown",
   "metadata": {},
   "source": [
    "#### A train station near the western wall of Jerusalem is to be named after Donald Trump apparently"
   ]
  },
  {
   "cell_type": "markdown",
   "metadata": {},
   "source": [
    "### 5 topics, 1st order ngram, max_df = 1.0"
   ]
  },
  {
   "cell_type": "code",
   "execution_count": 145,
   "metadata": {},
   "outputs": [
    {
     "name": "stdout",
     "output_type": "stream",
     "text": [
      "Topic 1:\n",
      "jerusalem embassy guatemala israel trump moving says countries president trumps decision embassies lead announces following\n",
      "------------------------------\n",
      "\n",
      "Topic 2:\n",
      "jerusalem christmas peace pope israel trump calls merry nations francis amp world united message day\n",
      "------------------------------\n",
      "\n",
      "Topic 3:\n",
      "jerusalem israel capital palestine amp christians jews city east jewish holy god palestinians people years\n",
      "------------------------------\n",
      "\n",
      "Topic 4:\n",
      "jerusalem trump israel station capital train president israeli donald vote wall western new decision minister\n",
      "------------------------------\n",
      "\n",
      "Topic 5:\n",
      "jerusalem vote palestinian haley trump just nikki like israeli funding violence israel christmas dont million\n",
      "------------------------------\n",
      "\n"
     ]
    }
   ],
   "source": [
    "show_top_words(15, count, lda5)"
   ]
  },
  {
   "cell_type": "markdown",
   "metadata": {},
   "source": [
    "### Distribution of topics (topic_num = 5)"
   ]
  },
  {
   "cell_type": "code",
   "execution_count": 146,
   "metadata": {},
   "outputs": [
    {
     "data": {
      "image/png": "[encoded data removed]",
      "text/plain": [
       "<matplotlib.figure.Figure at 0x1884e6a80b8>"
      ]
     },
     "metadata": {},
     "output_type": "display_data"
    }
   ],
   "source": [
    "X_topics5_np = np.array(X_topics5)\n",
    "topic_distribution = np.argmax(X_topics5_np, axis = 1)\n",
    "topic_count = np.bincount(topic_distribution)\n",
    "\n",
    "plt.figure(figsize = (12, 7))\n",
    "plt.bar(range(len(topic_count)), topic_count)\n",
    "plt.xticks(range(len(topic_count)), ('topic1', 'topic2', 'topic3', 'topic4', 'topic5'))\n",
    "plt.ylabel('Number of tweets')\n",
    "plt.xlabel('topic')\n",
    "plt.title('Topic distribution of keyword jerusalem in Twitter API')\n",
    "plt.show()"
   ]
  },
  {
   "cell_type": "markdown",
   "metadata": {},
   "source": [
    "### Let us print out some tweets from each topic and see if topic modeling indeed divided the tweets properly"
   ]
  },
  {
   "cell_type": "code",
   "execution_count": null,
   "metadata": {
    "collapsed": true
   },
   "outputs": [],
   "source": [
    "topic_5_1 = X_topics5[:, 0].argsort()[::-1] #this reverses the order\n",
    "for iter_idx, movie_idx in enumerate(topic_5_1[:200]):\n",
    "    print(tweet_df['filtered_tweet'][movie_idx])\n",
    "    print('-' * 50)\n",
    "    print()"
   ]
  },
  {
   "cell_type": "markdown",
   "metadata": {},
   "source": [
    "#### The first topic is pretty much identical to the first topic in the 4 topic model. It still has some bitcoin related noise data, but the central theme of this topic is Guatemala and other countries moving their embassies to Jerusalem following Trump's announcement."
   ]
  },
  {
   "cell_type": "code",
   "execution_count": null,
   "metadata": {
    "collapsed": true
   },
   "outputs": [],
   "source": [
    "topic_5_2 = X_topics5[:, 1].argsort()[::-1] #this reverses the order\n",
    "for iter_idx, movie_idx in enumerate(topic_5_2[:200]):\n",
    "    print(tweet_df['filtered_tweet'][movie_idx])\n",
    "    print('-' * 50)\n",
    "    print()"
   ]
  },
  {
   "cell_type": "markdown",
   "metadata": {},
   "source": [
    "#### The second topic also consists of Christmas and Pope related topics, but the number of tweets belonging to this class has decreased from 15000 -> 10000."
   ]
  },
  {
   "cell_type": "code",
   "execution_count": null,
   "metadata": {
    "collapsed": true
   },
   "outputs": [],
   "source": [
    "topic_5_3 = X_topics5[:, 2].argsort()[::-1] #this reverses the order\n",
    "for iter_idx, movie_idx in enumerate(topic_5_3[:200]):\n",
    "    print(tweet_df['filtered_tweet'][movie_idx])\n",
    "    print('-' * 50)\n",
    "    print()"
   ]
  },
  {
   "cell_type": "markdown",
   "metadata": {},
   "source": [
    "#### This is still the history of Jerusalem related topic except the number of tweets belonging to this topic has decreased from 22000 -> 16000."
   ]
  },
  {
   "cell_type": "code",
   "execution_count": null,
   "metadata": {
    "collapsed": true
   },
   "outputs": [],
   "source": [
    "topic_5_4 = X_topics5[:, 3].argsort()[::-1] #this reverses the order\n",
    "for iter_idx, movie_idx in enumerate(topic_5_4[:200]):\n",
    "    print(tweet_df['filtered_tweet'][movie_idx])\n",
    "    print('-' * 50)\n",
    "    print()"
   ]
  },
  {
   "cell_type": "markdown",
   "metadata": {},
   "source": [
    "#### Good old tweets about a train station being named after Trump."
   ]
  },
  {
   "cell_type": "code",
   "execution_count": null,
   "metadata": {
    "collapsed": true
   },
   "outputs": [],
   "source": [
    "topic_5_5 = X_topics5[:, 4].argsort()[::-1] #this reverses the order\n",
    "for iter_idx, movie_idx in enumerate(topic_5_5[:200]):\n",
    "    print(tweet_df['filtered_tweet'][movie_idx])\n",
    "    print('-' * 50)\n",
    "    print()"
   ]
  },
  {
   "cell_type": "markdown",
   "metadata": {},
   "source": [
    "#### This last one appears to contain several topics from the violence that has occurred as a result of Jerusalem issue, conflict b/t Isrealies and Palestanians, mention of Nikki Haley who is the ambassador to the United Nations"
   ]
  },
  {
   "cell_type": "markdown",
   "metadata": {},
   "source": [
    "## 6) Conclusion\n",
    "\n",
    "#### Reference: https://datascience.stackexchange.com/questions/12281/how-cluster-a-twitter-data-set"
   ]
  },
  {
   "cell_type": "markdown",
   "metadata": {},
   "source": [
    "Originally, the analysis was going to be performed using K-means clustering, but the above thread made me think twice about that.\n",
    "\n",
    "As an alternative, I ran into LDA algorithm implemented in scikit-learn and learned that this is probably a better model to go with for Topic Modeling. However, even in the LDA analysis, it was observed that while the algorithm did a decent job picking out important topics, each topic still contained a lot of noisy data that were off-topic. Given more time, it would have been interesting to design a filter that would get rid of noisy and/or duplicate data, but I'd imagine that in itself would require a lot of work, and would depend on the keyword that is being analyzed at hand.\n",
    "\n",
    "For my next personal project, I would like to do a product evaluation when it just came out so that we could get more legitimate twitter data as opposed to data dominated by advertisements. This type of analysis is also probably more intriguing to firms."
   ]
  },
  {
   "cell_type": "markdown",
   "metadata": {},
   "source": [
    "## 7) References"
   ]
  },
  {
   "cell_type": "markdown",
   "metadata": {},
   "source": [
    "https://developer.twitter.com/en/docs/tweets/search/overview\n",
    "\n",
    "https://datascience.stackexchange.com/questions/12281/how-cluster-a-twitter-data-set\n",
    "\n",
    "https://medium.com/mlreview/topic-modeling-with-scikit-learn-e80d33668730\n",
    "\n",
    "https://www.youtube.com/watch?v=BuMu-bdoVrU\n",
    "\n",
    "http://blog.mathandpencil.com/using-latent-dirichlet-allocation-to-categorize-my-twitter-feed\n",
    "\n",
    "Python Machine Learning 2nd Edition, Sebastian Raschka"
   ]
  }
 ],
 "metadata": {
  "kernelspec": {
   "display_name": "Python 3",
   "language": "python",
   "name": "python3"
  },
  "language_info": {
   "codemirror_mode": {
    "name": "ipython",
    "version": 3
   },
   "file_extension": ".py",
   "mimetype": "text/x-python",
   "name": "python",
   "nbconvert_exporter": "python",
   "pygments_lexer": "ipython3",
   "version": "3.6.3"
  }
 },
 "nbformat": 4,
 "nbformat_minor": 2
}
